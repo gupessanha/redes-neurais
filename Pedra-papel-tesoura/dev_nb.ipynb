{
 "cells": [
  {
   "cell_type": "code",
   "execution_count": 1,
   "id": "dc67d376",
   "metadata": {},
   "outputs": [],
   "source": [
    "import pandas as pd\n",
    "import torch\n",
    "from torch.utils.data import DataLoader\n",
    "import torchvision\n",
    "from torchvision.models.detection import fasterrcnn_resnet50_fpn\n",
    "from torchvision.datasets import ImageFolder\n",
    "from torchvision import transforms\n",
    "import torchvision.transforms as T\n",
    "from torchvision.models.detection.faster_rcnn import FastRCNNPredictor"
   ]
  },
  {
   "cell_type": "code",
   "execution_count": 7,
   "id": "c74bc63c",
   "metadata": {},
   "outputs": [
    {
     "data": {
      "application/vnd.microsoft.datawrangler.viewer.v0+json": {
       "columns": [
        {
         "name": "index",
         "rawType": "int64",
         "type": "integer"
        },
        {
         "name": "filename",
         "rawType": "object",
         "type": "string"
        },
        {
         "name": "width",
         "rawType": "int64",
         "type": "integer"
        },
        {
         "name": "height",
         "rawType": "int64",
         "type": "integer"
        },
        {
         "name": "class",
         "rawType": "object",
         "type": "string"
        },
        {
         "name": "xmin",
         "rawType": "int64",
         "type": "integer"
        },
        {
         "name": "ymin",
         "rawType": "int64",
         "type": "integer"
        },
        {
         "name": "xmax",
         "rawType": "int64",
         "type": "integer"
        },
        {
         "name": "ymax",
         "rawType": "int64",
         "type": "integer"
        }
       ],
       "ref": "f1d11422-2649-44d2-ab8d-1122886a2f74",
       "rows": [
        [
         "0",
         "IMG_7079_MOV-23_jpg.rf.123a8de8c8da646e4a25f1cedcd4c71c.jpg",
         "640",
         "640",
         "Rock",
         "39",
         "185",
         "414",
         "443"
        ],
        [
         "1",
         "egohands-public-1623358709389_png_jpg.rf.01566636003f63ab6cd0dbad04d98c62.jpg",
         "640",
         "640",
         "Paper",
         "131",
         "40",
         "277",
         "234"
        ],
        [
         "2",
         "Screen-Shot-2022-02-14-at-1-09-28-PM_png.rf.004276a608618ac17b2eb2b2d69fb1c0.jpg",
         "640",
         "640",
         "Paper",
         "0",
         "73",
         "156",
         "483"
        ],
        [
         "3",
         "Screen-Shot-2022-02-08-at-12-58-48-PM_png.rf.0f97b360502b3bc1b891663903b9f0a5.jpg",
         "640",
         "640",
         "Rock",
         "45",
         "335",
         "148",
         "548"
        ],
        [
         "4",
         "egohands-public-1626966067167_png_jpg.rf.078d6d120ba5d71e55e8c0980340a393.jpg",
         "640",
         "640",
         "Rock",
         "142",
         "316",
         "318",
         "501"
        ]
       ],
       "shape": {
        "columns": 8,
        "rows": 5
       }
      },
      "text/html": [
       "<div>\n",
       "<style scoped>\n",
       "    .dataframe tbody tr th:only-of-type {\n",
       "        vertical-align: middle;\n",
       "    }\n",
       "\n",
       "    .dataframe tbody tr th {\n",
       "        vertical-align: top;\n",
       "    }\n",
       "\n",
       "    .dataframe thead th {\n",
       "        text-align: right;\n",
       "    }\n",
       "</style>\n",
       "<table border=\"1\" class=\"dataframe\">\n",
       "  <thead>\n",
       "    <tr style=\"text-align: right;\">\n",
       "      <th></th>\n",
       "      <th>filename</th>\n",
       "      <th>width</th>\n",
       "      <th>height</th>\n",
       "      <th>class</th>\n",
       "      <th>xmin</th>\n",
       "      <th>ymin</th>\n",
       "      <th>xmax</th>\n",
       "      <th>ymax</th>\n",
       "    </tr>\n",
       "  </thead>\n",
       "  <tbody>\n",
       "    <tr>\n",
       "      <th>0</th>\n",
       "      <td>IMG_7079_MOV-23_jpg.rf.123a8de8c8da646e4a25f1c...</td>\n",
       "      <td>640</td>\n",
       "      <td>640</td>\n",
       "      <td>Rock</td>\n",
       "      <td>39</td>\n",
       "      <td>185</td>\n",
       "      <td>414</td>\n",
       "      <td>443</td>\n",
       "    </tr>\n",
       "    <tr>\n",
       "      <th>1</th>\n",
       "      <td>egohands-public-1623358709389_png_jpg.rf.01566...</td>\n",
       "      <td>640</td>\n",
       "      <td>640</td>\n",
       "      <td>Paper</td>\n",
       "      <td>131</td>\n",
       "      <td>40</td>\n",
       "      <td>277</td>\n",
       "      <td>234</td>\n",
       "    </tr>\n",
       "    <tr>\n",
       "      <th>2</th>\n",
       "      <td>Screen-Shot-2022-02-14-at-1-09-28-PM_png.rf.00...</td>\n",
       "      <td>640</td>\n",
       "      <td>640</td>\n",
       "      <td>Paper</td>\n",
       "      <td>0</td>\n",
       "      <td>73</td>\n",
       "      <td>156</td>\n",
       "      <td>483</td>\n",
       "    </tr>\n",
       "    <tr>\n",
       "      <th>3</th>\n",
       "      <td>Screen-Shot-2022-02-08-at-12-58-48-PM_png.rf.0...</td>\n",
       "      <td>640</td>\n",
       "      <td>640</td>\n",
       "      <td>Rock</td>\n",
       "      <td>45</td>\n",
       "      <td>335</td>\n",
       "      <td>148</td>\n",
       "      <td>548</td>\n",
       "    </tr>\n",
       "    <tr>\n",
       "      <th>4</th>\n",
       "      <td>egohands-public-1626966067167_png_jpg.rf.078d6...</td>\n",
       "      <td>640</td>\n",
       "      <td>640</td>\n",
       "      <td>Rock</td>\n",
       "      <td>142</td>\n",
       "      <td>316</td>\n",
       "      <td>318</td>\n",
       "      <td>501</td>\n",
       "    </tr>\n",
       "  </tbody>\n",
       "</table>\n",
       "</div>"
      ],
      "text/plain": [
       "                                            filename  width  height  class  \\\n",
       "0  IMG_7079_MOV-23_jpg.rf.123a8de8c8da646e4a25f1c...    640     640   Rock   \n",
       "1  egohands-public-1623358709389_png_jpg.rf.01566...    640     640  Paper   \n",
       "2  Screen-Shot-2022-02-14-at-1-09-28-PM_png.rf.00...    640     640  Paper   \n",
       "3  Screen-Shot-2022-02-08-at-12-58-48-PM_png.rf.0...    640     640   Rock   \n",
       "4  egohands-public-1626966067167_png_jpg.rf.078d6...    640     640   Rock   \n",
       "\n",
       "   xmin  ymin  xmax  ymax  \n",
       "0    39   185   414   443  \n",
       "1   131    40   277   234  \n",
       "2     0    73   156   483  \n",
       "3    45   335   148   548  \n",
       "4   142   316   318   501  "
      ]
     },
     "execution_count": 7,
     "metadata": {},
     "output_type": "execute_result"
    }
   ],
   "source": [
    "df_image_info = pd.read_csv('./test/_annotations.csv')\n",
    "df_image_info.head()"
   ]
  },
  {
   "cell_type": "code",
   "execution_count": 8,
   "id": "35be4105",
   "metadata": {},
   "outputs": [
    {
     "name": "stdout",
     "output_type": "stream",
     "text": [
      "                                              filename  width  height  class  \\\n",
      "0    IMG_7079_MOV-23_jpg.rf.123a8de8c8da646e4a25f1c...    640     640   Rock   \n",
      "1    egohands-public-1623358709389_png_jpg.rf.01566...    640     640  Paper   \n",
      "2    Screen-Shot-2022-02-14-at-1-09-28-PM_png.rf.00...    640     640  Paper   \n",
      "3    Screen-Shot-2022-02-08-at-12-58-48-PM_png.rf.0...    640     640   Rock   \n",
      "4    egohands-public-1626966067167_png_jpg.rf.078d6...    640     640   Rock   \n",
      "..                                                 ...    ...     ...    ...   \n",
      "199  egohands-public-1623712844639_png_jpg.rf.f367a...    640     640  Paper   \n",
      "200  egohands-public-1626386619095_png_jpg.rf.f19df...    640     640   Rock   \n",
      "201  zoom_tests_RockPaperScissors-mohamed_mp4-157_j...    640     640  Paper   \n",
      "202  egohands-public-1621214710295_png_jpg.rf.f776c...    640     640  Paper   \n",
      "203  zoom_tests_RockPaperScissors-mohamed_mp4-137_j...    640     640  Paper   \n",
      "\n",
      "     xmin  ymin  xmax  ymax  \n",
      "0      39   185   414   443  \n",
      "1     131    40   277   234  \n",
      "2       0    73   156   483  \n",
      "3      45   335   148   548  \n",
      "4     142   316   318   501  \n",
      "..    ...   ...   ...   ...  \n",
      "199   174   388   381   473  \n",
      "200   374   225   634   483  \n",
      "201     0   107   325   475  \n",
      "202   281   463   470   607  \n",
      "203   211    85   385   608  \n",
      "\n",
      "[204 rows x 8 columns]\n"
     ]
    }
   ],
   "source": [
    "print(df_image_info)"
   ]
  },
  {
   "cell_type": "code",
   "execution_count": 27,
   "id": "fe174a6c",
   "metadata": {},
   "outputs": [],
   "source": [
    "import matplotlib.pyplot as plt\n",
    "import numpy as np"
   ]
  },
  {
   "cell_type": "code",
   "execution_count": 9,
   "id": "cd9ba6f6",
   "metadata": {},
   "outputs": [
    {
     "data": {
      "application/vnd.microsoft.datawrangler.viewer.v0+json": {
       "columns": [
        {
         "name": "index",
         "rawType": "int64",
         "type": "integer"
        },
        {
         "name": "filename",
         "rawType": "object",
         "type": "string"
        },
        {
         "name": "width",
         "rawType": "int64",
         "type": "integer"
        },
        {
         "name": "height",
         "rawType": "int64",
         "type": "integer"
        },
        {
         "name": "class",
         "rawType": "object",
         "type": "string"
        },
        {
         "name": "xmin",
         "rawType": "int64",
         "type": "integer"
        },
        {
         "name": "ymin",
         "rawType": "int64",
         "type": "integer"
        },
        {
         "name": "xmax",
         "rawType": "int64",
         "type": "integer"
        },
        {
         "name": "ymax",
         "rawType": "int64",
         "type": "integer"
        }
       ],
       "ref": "1110b3a7-c2bf-4fdc-8186-37e618d50994",
       "rows": [
        [
         "0",
         "IMG_7079_MOV-23_jpg.rf.123a8de8c8da646e4a25f1cedcd4c71c.jpg",
         "640",
         "640",
         "Rock",
         "39",
         "185",
         "414",
         "443"
        ],
        [
         "1",
         "egohands-public-1623358709389_png_jpg.rf.01566636003f63ab6cd0dbad04d98c62.jpg",
         "640",
         "640",
         "Paper",
         "131",
         "40",
         "277",
         "234"
        ],
        [
         "2",
         "Screen-Shot-2022-02-14-at-1-09-28-PM_png.rf.004276a608618ac17b2eb2b2d69fb1c0.jpg",
         "640",
         "640",
         "Paper",
         "0",
         "73",
         "156",
         "483"
        ],
        [
         "3",
         "Screen-Shot-2022-02-08-at-12-58-48-PM_png.rf.0f97b360502b3bc1b891663903b9f0a5.jpg",
         "640",
         "640",
         "Rock",
         "45",
         "335",
         "148",
         "548"
        ],
        [
         "4",
         "egohands-public-1626966067167_png_jpg.rf.078d6d120ba5d71e55e8c0980340a393.jpg",
         "640",
         "640",
         "Rock",
         "142",
         "316",
         "318",
         "501"
        ],
        [
         "5",
         "youtube-25_jpg.rf.121bbf3873487349ba7e5e2cde55dcef.jpg",
         "640",
         "640",
         "Rock",
         "217",
         "94",
         "396",
         "426"
        ],
        [
         "6",
         "egohands-public-1621349890675_png_jpg.rf.0d6f828c1a48a7515a87a85c468da676.jpg",
         "640",
         "640",
         "Scissors",
         "369",
         "263",
         "592",
         "424"
        ],
        [
         "7",
         "Photo-on-2-16-22-at-10-20-AM-7_jpg.rf.04c02e8a8898821f6a8e1b3c12192c15.jpg",
         "640",
         "640",
         "Scissors",
         "78",
         "362",
         "170",
         "581"
        ],
        [
         "8",
         "20220216_221550_jpg.rf.02a071a383151953fcf8671fc7fca3af.jpg",
         "640",
         "640",
         "Scissors",
         "137",
         "321",
         "531",
         "479"
        ],
        [
         "9",
         "JWitt-RCP_mp4-2_jpg.rf.08f34c86631e096235a52c67a997e211.jpg",
         "640",
         "640",
         "Rock",
         "1",
         "228",
         "364",
         "464"
        ],
        [
         "10",
         "egohands-public-1623336386373_png_jpg.rf.10cd0ece7487b1b1582c242a05f8fd9e.jpg",
         "640",
         "640",
         "Paper",
         "304",
         "383",
         "640",
         "533"
        ],
        [
         "11",
         "zoom_tests_RockPaperScissors-mohamed_mp4-87_jpg.rf.02bbad88be3d329e5c8a4864029c4330.jpg",
         "640",
         "640",
         "Rock",
         "22",
         "250",
         "258",
         "640"
        ],
        [
         "12",
         "JWitt-RCP_mp4-60_jpg.rf.0b87e172f5828cb369eef54dbf0158b9.jpg",
         "640",
         "640",
         "Scissors",
         "239",
         "222",
         "620",
         "603"
        ],
        [
         "13",
         "IMG_5567_mp4-148_jpg.rf.114bb58b3a26f84baec9d8f32bc9604e.jpg",
         "640",
         "640",
         "Scissors",
         "349",
         "315",
         "530",
         "421"
        ],
        [
         "14",
         "Screen-Shot-2021-05-12-at-3-28-58-PM_png_jpg.rf.132e50c0afb53595b25ac3848ca71607.jpg",
         "640",
         "640",
         "Scissors",
         "126",
         "257",
         "206",
         "454"
        ],
        [
         "15",
         "zoom_tests_RockPaperScissors-mohamed_mp4-107_jpg.rf.056c26adf21336e65bd2ff9fcfe79df9.jpg",
         "640",
         "640",
         "Paper",
         "190",
         "120",
         "419",
         "526"
        ],
        [
         "16",
         "egohands-public-1622730832103_png_jpg.rf.114588fe3eb0def9cc5eef067655fdd6.jpg",
         "640",
         "640",
         "Scissors",
         "388",
         "24",
         "634",
         "264"
        ],
        [
         "17",
         "egohands-public-1620849869759_png_jpg.rf.1297a5523b200f54839c058fbe6ec9ea.jpg",
         "640",
         "640",
         "Rock",
         "76",
         "173",
         "241",
         "372"
        ],
        [
         "18",
         "JWitt-RCP_mp4-64_jpg.rf.184e0e828afeedb2c24813832d12639b.jpg",
         "640",
         "640",
         "Paper",
         "0",
         "157",
         "593",
         "483"
        ],
        [
         "19",
         "egohands-public-1620850453735_png_jpg.rf.1bbddd3a801574ef7e470163dda4920d.jpg",
         "640",
         "640",
         "Scissors",
         "62",
         "208",
         "303",
         "483"
        ],
        [
         "20",
         "egohands-public-1624561277010_png_jpg.rf.1d53c965da07a3b244757a22a4ca5c27.jpg",
         "640",
         "640",
         "Paper",
         "119",
         "365",
         "393",
         "491"
        ],
        [
         "21",
         "Cool-Video-of-Ocean-Fish-Swimming_mp4-18_jpg.rf.1d10e523f1e57a1418ddb9b104a99c82.jpg",
         "640",
         "640",
         "Scissors",
         "0",
         "30",
         "114",
         "292"
        ],
        [
         "22",
         "IMG_7043_MOV-84_jpg.rf.20901886485a1aa1b9a1f0bcd2a28f3c.jpg",
         "640",
         "640",
         "Rock",
         "142",
         "415",
         "438",
         "584"
        ],
        [
         "23",
         "egohands-public-1623712814722_png_jpg.rf.2163babbd15cbf7b4c00b5beaa7a7710.jpg",
         "640",
         "640",
         "Rock",
         "157",
         "376",
         "259",
         "512"
        ],
        [
         "24",
         "zoom_tests_RockPaperScissors-mohamed_mp4-37_jpg.rf.2485e257dda9802813673d000ba3ad96.jpg",
         "640",
         "640",
         "Rock",
         "328",
         "136",
         "603",
         "525"
        ],
        [
         "25",
         "IMG_7043_MOV-15_jpg.rf.273d7dca247d2d3ba88e5cce4545163d.jpg",
         "640",
         "640",
         "Scissors",
         "205",
         "255",
         "640",
         "622"
        ],
        [
         "26",
         "zoom_tests_RockPaperScissors-mohamed_mp4-187_jpg.rf.2154ec5df3d2d8bf8513669e06da5780.jpg",
         "640",
         "640",
         "Scissors",
         "0",
         "158",
         "248",
         "557"
        ],
        [
         "27",
         "IMG_5567_mp4-108_jpg.rf.2271a32fd2956bb7be9c2f53eeb7e5f6.jpg",
         "640",
         "640",
         "Scissors",
         "303",
         "375",
         "427",
         "502"
        ],
        [
         "28",
         "youtube-115_jpg.rf.2800bdb9db9e04287b5e232bc67267f2.jpg",
         "640",
         "640",
         "Paper",
         "33",
         "239",
         "271",
         "344"
        ],
        [
         "29",
         "youtube-115_jpg.rf.2800bdb9db9e04287b5e232bc67267f2.jpg",
         "640",
         "640",
         "Scissors",
         "313",
         "125",
         "560",
         "315"
        ],
        [
         "30",
         "egohands-public-1625756311389_png_jpg.rf.2f6d92cb4bae80686a11e160b80a732e.jpg",
         "640",
         "640",
         "Paper",
         "369",
         "192",
         "621",
         "372"
        ],
        [
         "31",
         "IMG_5567_mp4-78_jpg.rf.2e4bf0323dda4f836bb5cb47157fcf71.jpg",
         "640",
         "640",
         "Paper",
         "297",
         "383",
         "480",
         "460"
        ],
        [
         "32",
         "egohands-public-1625151611781_png_jpg.rf.276832091344ab8e788895ff056f90c3.jpg",
         "640",
         "640",
         "Paper",
         "154",
         "372",
         "415",
         "535"
        ],
        [
         "33",
         "20220216_221819_jpg.rf.295ebb583293f91f74e1700f0ab0639a.jpg",
         "640",
         "640",
         "Rock",
         "264",
         "282",
         "437",
         "435"
        ],
        [
         "34",
         "IMG_7043_MOV-157_jpg.rf.30eede3e63f2f4b0584c162a0bc96ec0.jpg",
         "640",
         "640",
         "Paper",
         "73",
         "325",
         "503",
         "515"
        ],
        [
         "35",
         "egohands-public-1623712843454_png_jpg.rf.333149ecf9979a41d4598c020ff495d5.jpg",
         "640",
         "640",
         "Paper",
         "65",
         "373",
         "259",
         "463"
        ],
        [
         "36",
         "IMG_7079_MOV-149_jpg.rf.3449e202f62c165ceabe8f868a60dec2.jpg",
         "640",
         "640",
         "Scissors",
         "0",
         "206",
         "307",
         "395"
        ],
        [
         "37",
         "egohands-public-1621349891794_png_jpg.rf.314e704aa30f0c6f8675eb99fbe65b13.jpg",
         "640",
         "640",
         "Paper",
         "445",
         "5",
         "626",
         "199"
        ],
        [
         "38",
         "egohands-public-1620849847487_png_jpg.rf.355777ab941573cef1e27f30d003bf2c.jpg",
         "640",
         "640",
         "Scissors",
         "194",
         "349",
         "538",
         "639"
        ],
        [
         "39",
         "egohands-public-1625860395055_png_jpg.rf.368bde93a2201f581727bd6a2956acd0.jpg",
         "640",
         "640",
         "Paper",
         "207",
         "421",
         "453",
         "567"
        ],
        [
         "40",
         "JWitt-RCP_mp4-41_jpg.rf.373530a2e9ad204d31526843b5cf95b2.jpg",
         "640",
         "640",
         "Scissors",
         "235",
         "158",
         "608",
         "544"
        ],
        [
         "41",
         "IMG_7043_MOV-13_jpg.rf.357623d0c7642153a6890a9650ce4e3e.jpg",
         "640",
         "640",
         "Scissors",
         "231",
         "295",
         "640",
         "640"
        ],
        [
         "42",
         "youtube-34_jpg.rf.348de6113db6e57567e97707f44d67c3.jpg",
         "640",
         "640",
         "Scissors",
         "145",
         "188",
         "481",
         "447"
        ],
        [
         "43",
         "IMG_5636_MOV-31_jpg.rf.372f95db69cc8886d4d02032d4ebf34e.jpg",
         "640",
         "640",
         "Rock",
         "294",
         "380",
         "444",
         "478"
        ],
        [
         "44",
         "IMG_7079_MOV-52_jpg.rf.38a4c13e463fd2bec504bd496f0f3e56.jpg",
         "640",
         "640",
         "Paper",
         "100",
         "216",
         "496",
         "441"
        ],
        [
         "45",
         "youtube-58_jpg.rf.38a083eefa3d90155ecfae628b3df0de.jpg",
         "640",
         "640",
         "Rock",
         "391",
         "0",
         "584",
         "276"
        ],
        [
         "46",
         "IMG_5636_MOV-40_jpg.rf.3b0f4c04864723de576c09017e995293.jpg",
         "640",
         "640",
         "Scissors",
         "423",
         "249",
         "611",
         "418"
        ],
        [
         "47",
         "IMG_7043_MOV-16_jpg.rf.3966bc9b069fd8ef804967f4e5135eaf.jpg",
         "640",
         "640",
         "Scissors",
         "199",
         "304",
         "640",
         "640"
        ],
        [
         "48",
         "egohands-public-1626201614270_png_jpg.rf.3d48501d9c5bb8ae3bafa6d5257e6db7.jpg",
         "640",
         "640",
         "Rock",
         "325",
         "379",
         "575",
         "639"
        ],
        [
         "49",
         "IMG_7043_MOV-26_jpg.rf.3d787069141cab2904f954aa22fe94c0.jpg",
         "640",
         "640",
         "Scissors",
         "288",
         "213",
         "640",
         "550"
        ]
       ],
       "shape": {
        "columns": 8,
        "rows": 204
       }
      },
      "text/html": [
       "<div>\n",
       "<style scoped>\n",
       "    .dataframe tbody tr th:only-of-type {\n",
       "        vertical-align: middle;\n",
       "    }\n",
       "\n",
       "    .dataframe tbody tr th {\n",
       "        vertical-align: top;\n",
       "    }\n",
       "\n",
       "    .dataframe thead th {\n",
       "        text-align: right;\n",
       "    }\n",
       "</style>\n",
       "<table border=\"1\" class=\"dataframe\">\n",
       "  <thead>\n",
       "    <tr style=\"text-align: right;\">\n",
       "      <th></th>\n",
       "      <th>filename</th>\n",
       "      <th>width</th>\n",
       "      <th>height</th>\n",
       "      <th>class</th>\n",
       "      <th>xmin</th>\n",
       "      <th>ymin</th>\n",
       "      <th>xmax</th>\n",
       "      <th>ymax</th>\n",
       "    </tr>\n",
       "  </thead>\n",
       "  <tbody>\n",
       "    <tr>\n",
       "      <th>0</th>\n",
       "      <td>IMG_7079_MOV-23_jpg.rf.123a8de8c8da646e4a25f1c...</td>\n",
       "      <td>640</td>\n",
       "      <td>640</td>\n",
       "      <td>Rock</td>\n",
       "      <td>39</td>\n",
       "      <td>185</td>\n",
       "      <td>414</td>\n",
       "      <td>443</td>\n",
       "    </tr>\n",
       "    <tr>\n",
       "      <th>1</th>\n",
       "      <td>egohands-public-1623358709389_png_jpg.rf.01566...</td>\n",
       "      <td>640</td>\n",
       "      <td>640</td>\n",
       "      <td>Paper</td>\n",
       "      <td>131</td>\n",
       "      <td>40</td>\n",
       "      <td>277</td>\n",
       "      <td>234</td>\n",
       "    </tr>\n",
       "    <tr>\n",
       "      <th>2</th>\n",
       "      <td>Screen-Shot-2022-02-14-at-1-09-28-PM_png.rf.00...</td>\n",
       "      <td>640</td>\n",
       "      <td>640</td>\n",
       "      <td>Paper</td>\n",
       "      <td>0</td>\n",
       "      <td>73</td>\n",
       "      <td>156</td>\n",
       "      <td>483</td>\n",
       "    </tr>\n",
       "    <tr>\n",
       "      <th>3</th>\n",
       "      <td>Screen-Shot-2022-02-08-at-12-58-48-PM_png.rf.0...</td>\n",
       "      <td>640</td>\n",
       "      <td>640</td>\n",
       "      <td>Rock</td>\n",
       "      <td>45</td>\n",
       "      <td>335</td>\n",
       "      <td>148</td>\n",
       "      <td>548</td>\n",
       "    </tr>\n",
       "    <tr>\n",
       "      <th>4</th>\n",
       "      <td>egohands-public-1626966067167_png_jpg.rf.078d6...</td>\n",
       "      <td>640</td>\n",
       "      <td>640</td>\n",
       "      <td>Rock</td>\n",
       "      <td>142</td>\n",
       "      <td>316</td>\n",
       "      <td>318</td>\n",
       "      <td>501</td>\n",
       "    </tr>\n",
       "    <tr>\n",
       "      <th>...</th>\n",
       "      <td>...</td>\n",
       "      <td>...</td>\n",
       "      <td>...</td>\n",
       "      <td>...</td>\n",
       "      <td>...</td>\n",
       "      <td>...</td>\n",
       "      <td>...</td>\n",
       "      <td>...</td>\n",
       "    </tr>\n",
       "    <tr>\n",
       "      <th>199</th>\n",
       "      <td>egohands-public-1623712844639_png_jpg.rf.f367a...</td>\n",
       "      <td>640</td>\n",
       "      <td>640</td>\n",
       "      <td>Paper</td>\n",
       "      <td>174</td>\n",
       "      <td>388</td>\n",
       "      <td>381</td>\n",
       "      <td>473</td>\n",
       "    </tr>\n",
       "    <tr>\n",
       "      <th>200</th>\n",
       "      <td>egohands-public-1626386619095_png_jpg.rf.f19df...</td>\n",
       "      <td>640</td>\n",
       "      <td>640</td>\n",
       "      <td>Rock</td>\n",
       "      <td>374</td>\n",
       "      <td>225</td>\n",
       "      <td>634</td>\n",
       "      <td>483</td>\n",
       "    </tr>\n",
       "    <tr>\n",
       "      <th>201</th>\n",
       "      <td>zoom_tests_RockPaperScissors-mohamed_mp4-157_j...</td>\n",
       "      <td>640</td>\n",
       "      <td>640</td>\n",
       "      <td>Paper</td>\n",
       "      <td>0</td>\n",
       "      <td>107</td>\n",
       "      <td>325</td>\n",
       "      <td>475</td>\n",
       "    </tr>\n",
       "    <tr>\n",
       "      <th>202</th>\n",
       "      <td>egohands-public-1621214710295_png_jpg.rf.f776c...</td>\n",
       "      <td>640</td>\n",
       "      <td>640</td>\n",
       "      <td>Paper</td>\n",
       "      <td>281</td>\n",
       "      <td>463</td>\n",
       "      <td>470</td>\n",
       "      <td>607</td>\n",
       "    </tr>\n",
       "    <tr>\n",
       "      <th>203</th>\n",
       "      <td>zoom_tests_RockPaperScissors-mohamed_mp4-137_j...</td>\n",
       "      <td>640</td>\n",
       "      <td>640</td>\n",
       "      <td>Paper</td>\n",
       "      <td>211</td>\n",
       "      <td>85</td>\n",
       "      <td>385</td>\n",
       "      <td>608</td>\n",
       "    </tr>\n",
       "  </tbody>\n",
       "</table>\n",
       "<p>204 rows × 8 columns</p>\n",
       "</div>"
      ],
      "text/plain": [
       "                                              filename  width  height  class  \\\n",
       "0    IMG_7079_MOV-23_jpg.rf.123a8de8c8da646e4a25f1c...    640     640   Rock   \n",
       "1    egohands-public-1623358709389_png_jpg.rf.01566...    640     640  Paper   \n",
       "2    Screen-Shot-2022-02-14-at-1-09-28-PM_png.rf.00...    640     640  Paper   \n",
       "3    Screen-Shot-2022-02-08-at-12-58-48-PM_png.rf.0...    640     640   Rock   \n",
       "4    egohands-public-1626966067167_png_jpg.rf.078d6...    640     640   Rock   \n",
       "..                                                 ...    ...     ...    ...   \n",
       "199  egohands-public-1623712844639_png_jpg.rf.f367a...    640     640  Paper   \n",
       "200  egohands-public-1626386619095_png_jpg.rf.f19df...    640     640   Rock   \n",
       "201  zoom_tests_RockPaperScissors-mohamed_mp4-157_j...    640     640  Paper   \n",
       "202  egohands-public-1621214710295_png_jpg.rf.f776c...    640     640  Paper   \n",
       "203  zoom_tests_RockPaperScissors-mohamed_mp4-137_j...    640     640  Paper   \n",
       "\n",
       "     xmin  ymin  xmax  ymax  \n",
       "0      39   185   414   443  \n",
       "1     131    40   277   234  \n",
       "2       0    73   156   483  \n",
       "3      45   335   148   548  \n",
       "4     142   316   318   501  \n",
       "..    ...   ...   ...   ...  \n",
       "199   174   388   381   473  \n",
       "200   374   225   634   483  \n",
       "201     0   107   325   475  \n",
       "202   281   463   470   607  \n",
       "203   211    85   385   608  \n",
       "\n",
       "[204 rows x 8 columns]"
      ]
     },
     "execution_count": 9,
     "metadata": {},
     "output_type": "execute_result"
    }
   ],
   "source": [
    "df_image_info"
   ]
  },
  {
   "cell_type": "code",
   "execution_count": 44,
   "id": "3cc1cebd",
   "metadata": {},
   "outputs": [
    {
     "name": "stdout",
     "output_type": "stream",
     "text": [
      "['Solarize_Light2', '_classic_test_patch', '_mpl-gallery', '_mpl-gallery-nogrid', 'bmh', 'classic', 'dark_background', 'fast', 'fivethirtyeight', 'ggplot', 'grayscale', 'petroff10', 'seaborn-v0_8', 'seaborn-v0_8-bright', 'seaborn-v0_8-colorblind', 'seaborn-v0_8-dark', 'seaborn-v0_8-dark-palette', 'seaborn-v0_8-darkgrid', 'seaborn-v0_8-deep', 'seaborn-v0_8-muted', 'seaborn-v0_8-notebook', 'seaborn-v0_8-paper', 'seaborn-v0_8-pastel', 'seaborn-v0_8-poster', 'seaborn-v0_8-talk', 'seaborn-v0_8-ticks', 'seaborn-v0_8-white', 'seaborn-v0_8-whitegrid', 'tableau-colorblind10']\n"
     ]
    }
   ],
   "source": [
    "# List all available styles\n",
    "print(plt.style.available)\n",
    "\n",
    "# Use a popular built-in style like 'ggplot' instead\n",
    "plt.style.use('_mpl-gallery')"
   ]
  },
  {
   "cell_type": "code",
   "execution_count": 45,
   "id": "f42637b2",
   "metadata": {},
   "outputs": [
    {
     "data": {
      "image/png": "[encoded data removed]",
      "text/plain": [
       "<Figure size 800x600 with 1 Axes>"
      ]
     },
     "metadata": {},
     "output_type": "display_data"
    }
   ],
   "source": [
    "# Get the correct class counts\n",
    "class_counts = df_image_info['class'].value_counts()\n",
    "\n",
    "plt.figure(figsize=(8, 6))\n",
    "plt.bar(class_counts.index, class_counts.values, alpha=0.7)\n",
    "plt.xlabel('Class')\n",
    "plt.ylabel('Count')\n",
    "plt.title('Distribution of Rock, Paper, Scissors Classes')\n",
    "plt.grid(True, alpha=0.3)\n",
    "plt.show()"
   ]
  },
  {
   "cell_type": "code",
   "execution_count": 46,
   "id": "ab58da24",
   "metadata": {},
   "outputs": [
    {
     "data": {
      "application/vnd.microsoft.datawrangler.viewer.v0+json": {
       "columns": [
        {
         "name": "index",
         "rawType": "int64",
         "type": "integer"
        },
        {
         "name": "filename",
         "rawType": "object",
         "type": "string"
        },
        {
         "name": "width",
         "rawType": "int64",
         "type": "integer"
        },
        {
         "name": "height",
         "rawType": "int64",
         "type": "integer"
        },
        {
         "name": "class",
         "rawType": "object",
         "type": "string"
        },
        {
         "name": "xmin",
         "rawType": "int64",
         "type": "integer"
        },
        {
         "name": "ymin",
         "rawType": "int64",
         "type": "integer"
        },
        {
         "name": "xmax",
         "rawType": "int64",
         "type": "integer"
        },
        {
         "name": "ymax",
         "rawType": "int64",
         "type": "integer"
        }
       ],
       "ref": "899f6145-ae2e-4e7b-ac3b-33e397a6266b",
       "rows": [
        [
         "0",
         "IMG_7079_MOV-23_jpg.rf.123a8de8c8da646e4a25f1cedcd4c71c.jpg",
         "640",
         "640",
         "Rock",
         "39",
         "185",
         "414",
         "443"
        ],
        [
         "1",
         "egohands-public-1623358709389_png_jpg.rf.01566636003f63ab6cd0dbad04d98c62.jpg",
         "640",
         "640",
         "Paper",
         "131",
         "40",
         "277",
         "234"
        ],
        [
         "2",
         "Screen-Shot-2022-02-14-at-1-09-28-PM_png.rf.004276a608618ac17b2eb2b2d69fb1c0.jpg",
         "640",
         "640",
         "Paper",
         "0",
         "73",
         "156",
         "483"
        ],
        [
         "3",
         "Screen-Shot-2022-02-08-at-12-58-48-PM_png.rf.0f97b360502b3bc1b891663903b9f0a5.jpg",
         "640",
         "640",
         "Rock",
         "45",
         "335",
         "148",
         "548"
        ],
        [
         "4",
         "egohands-public-1626966067167_png_jpg.rf.078d6d120ba5d71e55e8c0980340a393.jpg",
         "640",
         "640",
         "Rock",
         "142",
         "316",
         "318",
         "501"
        ]
       ],
       "shape": {
        "columns": 8,
        "rows": 5
       }
      },
      "text/html": [
       "<div>\n",
       "<style scoped>\n",
       "    .dataframe tbody tr th:only-of-type {\n",
       "        vertical-align: middle;\n",
       "    }\n",
       "\n",
       "    .dataframe tbody tr th {\n",
       "        vertical-align: top;\n",
       "    }\n",
       "\n",
       "    .dataframe thead th {\n",
       "        text-align: right;\n",
       "    }\n",
       "</style>\n",
       "<table border=\"1\" class=\"dataframe\">\n",
       "  <thead>\n",
       "    <tr style=\"text-align: right;\">\n",
       "      <th></th>\n",
       "      <th>filename</th>\n",
       "      <th>width</th>\n",
       "      <th>height</th>\n",
       "      <th>class</th>\n",
       "      <th>xmin</th>\n",
       "      <th>ymin</th>\n",
       "      <th>xmax</th>\n",
       "      <th>ymax</th>\n",
       "    </tr>\n",
       "  </thead>\n",
       "  <tbody>\n",
       "    <tr>\n",
       "      <th>0</th>\n",
       "      <td>IMG_7079_MOV-23_jpg.rf.123a8de8c8da646e4a25f1c...</td>\n",
       "      <td>640</td>\n",
       "      <td>640</td>\n",
       "      <td>Rock</td>\n",
       "      <td>39</td>\n",
       "      <td>185</td>\n",
       "      <td>414</td>\n",
       "      <td>443</td>\n",
       "    </tr>\n",
       "    <tr>\n",
       "      <th>1</th>\n",
       "      <td>egohands-public-1623358709389_png_jpg.rf.01566...</td>\n",
       "      <td>640</td>\n",
       "      <td>640</td>\n",
       "      <td>Paper</td>\n",
       "      <td>131</td>\n",
       "      <td>40</td>\n",
       "      <td>277</td>\n",
       "      <td>234</td>\n",
       "    </tr>\n",
       "    <tr>\n",
       "      <th>2</th>\n",
       "      <td>Screen-Shot-2022-02-14-at-1-09-28-PM_png.rf.00...</td>\n",
       "      <td>640</td>\n",
       "      <td>640</td>\n",
       "      <td>Paper</td>\n",
       "      <td>0</td>\n",
       "      <td>73</td>\n",
       "      <td>156</td>\n",
       "      <td>483</td>\n",
       "    </tr>\n",
       "    <tr>\n",
       "      <th>3</th>\n",
       "      <td>Screen-Shot-2022-02-08-at-12-58-48-PM_png.rf.0...</td>\n",
       "      <td>640</td>\n",
       "      <td>640</td>\n",
       "      <td>Rock</td>\n",
       "      <td>45</td>\n",
       "      <td>335</td>\n",
       "      <td>148</td>\n",
       "      <td>548</td>\n",
       "    </tr>\n",
       "    <tr>\n",
       "      <th>4</th>\n",
       "      <td>egohands-public-1626966067167_png_jpg.rf.078d6...</td>\n",
       "      <td>640</td>\n",
       "      <td>640</td>\n",
       "      <td>Rock</td>\n",
       "      <td>142</td>\n",
       "      <td>316</td>\n",
       "      <td>318</td>\n",
       "      <td>501</td>\n",
       "    </tr>\n",
       "  </tbody>\n",
       "</table>\n",
       "</div>"
      ],
      "text/plain": [
       "                                            filename  width  height  class  \\\n",
       "0  IMG_7079_MOV-23_jpg.rf.123a8de8c8da646e4a25f1c...    640     640   Rock   \n",
       "1  egohands-public-1623358709389_png_jpg.rf.01566...    640     640  Paper   \n",
       "2  Screen-Shot-2022-02-14-at-1-09-28-PM_png.rf.00...    640     640  Paper   \n",
       "3  Screen-Shot-2022-02-08-at-12-58-48-PM_png.rf.0...    640     640   Rock   \n",
       "4  egohands-public-1626966067167_png_jpg.rf.078d6...    640     640   Rock   \n",
       "\n",
       "   xmin  ymin  xmax  ymax  \n",
       "0    39   185   414   443  \n",
       "1   131    40   277   234  \n",
       "2     0    73   156   483  \n",
       "3    45   335   148   548  \n",
       "4   142   316   318   501  "
      ]
     },
     "execution_count": 46,
     "metadata": {},
     "output_type": "execute_result"
    }
   ],
   "source": [
    "df_image_info.head()"
   ]
  },
  {
   "cell_type": "code",
   "execution_count": null,
   "id": "ce2f3d00",
   "metadata": {},
   "outputs": [
    {
     "data": {
      "image/png": "[encoded data removed]",
      "text/plain": [
       "<Figure size 200x200 with 1 Axes>"
      ]
     },
     "metadata": {},
     "output_type": "display_data"
    }
   ],
   "source": [
    "import cv2\n",
    "import os\n",
    "\n",
    "current_path = os.getcwd()\n",
    "image_path = f\"./test/{df_image_info.loc[0, 'filename']}\"\n",
    "img = cv2.imread(image_path)\n",
    "\n",
    "if img is not None:\n",
    "\timg = cv2.cvtColor(img, cv2.COLOR_BGR2RGB)\n",
    "else:\n",
    "\tprint(f\"Error: Could not load image from path: {image_path}\")\n",
    "\tprint(f\"Current directory: {current_path}\")\n",
    "\t# Check if file exists\n",
    "\tif os.path.exists(image_path):\n",
    "\t\tprint(\"File exists but couldn't be read by cv2.imread()\")\n",
    "\telse:\n",
    "\t\tprint(\"File does not exist at the specified path\")\n",
    "\t\t\n",
    "x1, y1 = df_image_info.loc[0, 'xmin'], df_image_info.loc[0, 'ymin']\n",
    "x2, y2 = df_image_info.loc[0, 'xmax'], df_image_info.loc[0, 'ymax']\n",
    "\n",
    "plt.imshow(img)\n",
    "plt.gca().add_patch(plt.Rectangle((x1, y1), x2 - x1, y2 - y1, edgecolor='red', facecolor='none', linewidth=2))\n",
    "plt.title(df_image_info.loc[0, 'class'])\n",
    "plt.show()"
   ]
  },
  {
   "cell_type": "markdown",
   "id": "ae82d31d",
   "metadata": {},
   "source": [
    "80/10/10\n",
    "treinamento/teste/validação\n",
    "\n",
    "Lucas moreira \n",
    "ldias@lamce.coppe.ufrj.br"
   ]
  }
 ],
 "metadata": {
  "kernelspec": {
   "display_name": "Pedra-papel-tesoura-FeOq4tIs",
   "language": "python",
   "name": "python3"
  },
  "language_info": {
   "codemirror_mode": {
    "name": "ipython",
    "version": 3
   },
   "file_extension": ".py",
   "mimetype": "text/x-python",
   "name": "python",
   "nbconvert_exporter": "python",
   "pygments_lexer": "ipython3",
   "version": "3.13.3"
  }
 },
 "nbformat": 4,
 "nbformat_minor": 5
}
